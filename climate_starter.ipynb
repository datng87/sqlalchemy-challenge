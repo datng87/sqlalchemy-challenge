{
 "cells": [
  {
   "cell_type": "code",
   "execution_count": 1,
   "metadata": {},
   "outputs": [],
   "source": [
    "#%matplotlib inline\n",
    "from matplotlib import style\n",
    "style.use('fivethirtyeight')\n",
    "import matplotlib.pyplot as plt\n",
    "from datetime import datetime\n",
    "import matplotlib.ticker as ticker"
   ]
  },
  {
   "cell_type": "code",
   "execution_count": 2,
   "metadata": {},
   "outputs": [],
   "source": [
    "import numpy as np\n",
    "import pandas as pd"
   ]
  },
  {
   "cell_type": "code",
   "execution_count": 3,
   "metadata": {},
   "outputs": [],
   "source": [
    "import datetime as dt"
   ]
  },
  {
   "cell_type": "markdown",
   "metadata": {},
   "source": [
    "# Reflect Tables into SQLAlchemy ORM"
   ]
  },
  {
   "cell_type": "code",
   "execution_count": 4,
   "metadata": {},
   "outputs": [],
   "source": [
    "# Python SQL toolkit and Object Relational Mapper\n",
    "import sqlalchemy\n",
    "from sqlalchemy.ext.automap import automap_base\n",
    "from sqlalchemy.orm import Session\n",
    "from sqlalchemy import create_engine, func"
   ]
  },
  {
   "cell_type": "code",
   "execution_count": 5,
   "metadata": {},
   "outputs": [],
   "source": [
    "engine = create_engine(\"sqlite:///Resources/hawaii.sqlite\")"
   ]
  },
  {
   "cell_type": "code",
   "execution_count": 6,
   "metadata": {},
   "outputs": [],
   "source": [
    "# reflect an existing database into a new model\n",
    "Base = automap_base()\n",
    "# reflect the tables\n",
    "Base.prepare(engine, reflect=True)"
   ]
  },
  {
   "cell_type": "code",
   "execution_count": 7,
   "metadata": {},
   "outputs": [
    {
     "data": {
      "text/plain": [
       "['measurement', 'station']"
      ]
     },
     "execution_count": 7,
     "metadata": {},
     "output_type": "execute_result"
    }
   ],
   "source": [
    "# We can view all of the classes that automap found\n",
    "Base.classes.keys()\n"
   ]
  },
  {
   "cell_type": "code",
   "execution_count": 8,
   "metadata": {},
   "outputs": [],
   "source": [
    "# Save references to each table\n",
    "Measurement = Base.classes.measurement\n",
    "Station = Base.classes.station\n"
   ]
  },
  {
   "cell_type": "code",
   "execution_count": 9,
   "metadata": {},
   "outputs": [],
   "source": [
    "# Create our session (link) from Python to the DB\n",
    "session = Session(engine)\n"
   ]
  },
  {
   "cell_type": "markdown",
   "metadata": {},
   "source": [
    "# Exploratory Climate Analysis"
   ]
  },
  {
   "cell_type": "code",
   "execution_count": 10,
   "metadata": {},
   "outputs": [
    {
     "data": {
      "image/png": "[encoded data removed]",
      "text/plain": [
       "<Figure size 864x576 with 1 Axes>"
      ]
     },
     "metadata": {
      "needs_background": "light"
     },
     "output_type": "display_data"
    }
   ],
   "source": [
    "# Design a query to retrieve the last 12 months of precipitation data and plot the results\n",
    "\n",
    "# Calculate the date 1 year ago from the last data point in the database\n",
    "lastest_data_date=session.query(Measurement.date).\\\n",
    "    order_by(Measurement.date.desc()).first()[0]\n",
    "one_year_ago=datetime.strptime(lastest_data_date,'%Y-%m-%d')-dt.timedelta(days=366)\n",
    "#one_year_ago=one_year_ago.strftime('%Y-%m-%d')\n",
    "# Perform a query to retrieve the data and precipitation scores\n",
    "precipitation_12months=session.query(Measurement.prcp,Measurement.date).\\\n",
    "    filter(Measurement.date>one_year_ago).all()\n",
    "# Save the query results as a Pandas DataFrame and set the index to the date column\n",
    "precipitation_df= pd.DataFrame(precipitation_12months,columns=['prcp','date'])\n",
    "precipitation_df['date']=pd.to_datetime(precipitation_df['date'])\n",
    "#precipitation_df.dropna(inplace=True)\n",
    "precipitation_df.set_index('date',inplace=True)\n",
    "# Sort the dataframe by date\n",
    "precipitation_df.sort_index(inplace=True)\n",
    "# Use Pandas Plotting with Matplotlib to plot the data\n",
    "precipitation_df_plot = precipitation_df.resample('1D')[['prcp']].max()\n",
    "ticklabels = ['']*len(precipitation_df_plot.index)\n",
    "ticklabels[::39] = [item.strftime('%Y-%m-%d') for item in precipitation_df_plot.index[::39]]\n",
    "ax = precipitation_df_plot.plot.bar(figsize=(12,8),width = 1,title=f'Precipitation from {one_year_ago+dt.timedelta(days=1):%Y-%m-%d} to {lastest_data_date}')\n",
    "ax.xaxis.set_major_formatter(ticker.FixedFormatter(ticklabels))\n",
    "#plt.gcf().autofmt_xdate()\n",
    "plt.xticks(rotation=90)\n",
    "plt.ylabel('Precipitation')\n",
    "plt.tight_layout()\n",
    "plt.savefig('outputs/precipitation_last_12_months.png',bbox_inches=\"tight\")"
   ]
  },
  {
   "cell_type": "code",
   "execution_count": 11,
   "metadata": {},
   "outputs": [
    {
     "data": {
      "text/html": [
       "<div>\n",
       "<style scoped>\n",
       "    .dataframe tbody tr th:only-of-type {\n",
       "        vertical-align: middle;\n",
       "    }\n",
       "\n",
       "    .dataframe tbody tr th {\n",
       "        vertical-align: top;\n",
       "    }\n",
       "\n",
       "    .dataframe thead th {\n",
       "        text-align: right;\n",
       "    }\n",
       "</style>\n",
       "<table border=\"1\" class=\"dataframe\">\n",
       "  <thead>\n",
       "    <tr style=\"text-align: right;\">\n",
       "      <th></th>\n",
       "      <th>prcp</th>\n",
       "    </tr>\n",
       "  </thead>\n",
       "  <tbody>\n",
       "    <tr>\n",
       "      <th>count</th>\n",
       "      <td>2021.000000</td>\n",
       "    </tr>\n",
       "    <tr>\n",
       "      <th>mean</th>\n",
       "      <td>0.177279</td>\n",
       "    </tr>\n",
       "    <tr>\n",
       "      <th>std</th>\n",
       "      <td>0.461190</td>\n",
       "    </tr>\n",
       "    <tr>\n",
       "      <th>min</th>\n",
       "      <td>0.000000</td>\n",
       "    </tr>\n",
       "    <tr>\n",
       "      <th>25%</th>\n",
       "      <td>0.000000</td>\n",
       "    </tr>\n",
       "    <tr>\n",
       "      <th>50%</th>\n",
       "      <td>0.020000</td>\n",
       "    </tr>\n",
       "    <tr>\n",
       "      <th>75%</th>\n",
       "      <td>0.130000</td>\n",
       "    </tr>\n",
       "    <tr>\n",
       "      <th>max</th>\n",
       "      <td>6.700000</td>\n",
       "    </tr>\n",
       "  </tbody>\n",
       "</table>\n",
       "</div>"
      ],
      "text/plain": [
       "              prcp\n",
       "count  2021.000000\n",
       "mean      0.177279\n",
       "std       0.461190\n",
       "min       0.000000\n",
       "25%       0.000000\n",
       "50%       0.020000\n",
       "75%       0.130000\n",
       "max       6.700000"
      ]
     },
     "execution_count": 11,
     "metadata": {},
     "output_type": "execute_result"
    }
   ],
   "source": [
    "# Use Pandas to calcualte the summary statistics for the precipitation data\n",
    "precipitation_df.describe()"
   ]
  },
  {
   "cell_type": "code",
   "execution_count": 28,
   "metadata": {},
   "outputs": [
    {
     "name": "stdout",
     "output_type": "stream",
     "text": [
      "The data set has 9 available stations\n"
     ]
    },
    {
     "name": "stderr",
     "output_type": "stream",
     "text": [
      "c:\\Users\\datqu\\anaconda3\\envs\\bootcamp\\lib\\site-packages\\ipykernel_launcher.py:5: SADeprecationWarning: DISTINCT ON is currently supported only by the PostgreSQL dialect.  Use of DISTINCT ON for other backends is currently silently ignored, however this usage is deprecated, and will raise CompileError in a future release for all backends that do not support this syntax.\n",
      "  \"\"\"\n"
     ]
    },
    {
     "data": {
      "text/plain": [
       "[('USC00519397',),\n",
       " ('USC00513117',),\n",
       " ('USC00514830',),\n",
       " ('USC00517948',),\n",
       " ('USC00518838',),\n",
       " ('USC00519523',),\n",
       " ('USC00519281',),\n",
       " ('USC00511918',),\n",
       " ('USC00516128',)]"
      ]
     },
     "execution_count": 28,
     "metadata": {},
     "output_type": "execute_result"
    }
   ],
   "source": [
    "# Design a query to show how many stations are available in this dataset?\n",
    "num_station = session.query(Measurement.station).\\\n",
    "        distinct(Measurement.station).count()\n",
    "print(f'The data set has {num_station} available stations')\n",
    "session.query(Measurement.station).distinct(Measurement.station).all()"
   ]
  },
  {
   "cell_type": "code",
   "execution_count": 13,
   "metadata": {},
   "outputs": [
    {
     "name": "stdout",
     "output_type": "stream",
     "text": [
      "Most active station is USC00519281 with 2772 records.\n"
     ]
    },
    {
     "data": {
      "text/plain": [
       "[('USC00519281', 2772),\n",
       " ('USC00519397', 2724),\n",
       " ('USC00513117', 2709),\n",
       " ('USC00519523', 2669),\n",
       " ('USC00516128', 2612),\n",
       " ('USC00514830', 2202),\n",
       " ('USC00511918', 1979),\n",
       " ('USC00517948', 1372),\n",
       " ('USC00518838', 511)]"
      ]
     },
     "execution_count": 13,
     "metadata": {},
     "output_type": "execute_result"
    }
   ],
   "source": [
    "# What are the most active stations? (i.e. what stations have the most rows)?\n",
    "# List the stations and the counts in descending order.\n",
    "(active_station,record)=session.query(Measurement.station,func.count(Measurement.station)).\\\n",
    "        group_by(Measurement.station).\\\n",
    "            order_by(func.count(Measurement.station).desc()).first()\n",
    "print(f'Most active station is {active_station} with {record} records.')\n",
    "session.query(Measurement.station,func.count(Measurement.station)).\\\n",
    "        group_by(Measurement.station).\\\n",
    "            order_by(func.count(Measurement.station).desc()).all()"
   ]
  },
  {
   "cell_type": "code",
   "execution_count": 14,
   "metadata": {},
   "outputs": [
    {
     "name": "stdout",
     "output_type": "stream",
     "text": [
      "Most active station USC00519281 has lowest tempt 54.0F, highest temp 85.0F, and avg temp 71.66F\n"
     ]
    }
   ],
   "source": [
    "# Using the station id from the previous query, calculate the lowest temperature recorded, \n",
    "# highest temperature recorded, and average temperature of the most active station?\n",
    "(active_station,min_tobs,max_tobs,avg_tobs)=session.query(Measurement.station,func.min(Measurement.tobs),\n",
    "              func.max(Measurement.tobs),func.avg(Measurement.tobs)).\\\n",
    "                  filter(Measurement.station=='USC00519281').\\\n",
    "                      group_by(Measurement.station).first()\n",
    "print(f'Most active station {active_station} has lowest tempt {min_tobs}F, highest temp {max_tobs}F, and avg temp {avg_tobs:.2f}F')"
   ]
  },
  {
   "cell_type": "code",
   "execution_count": 15,
   "metadata": {},
   "outputs": [
    {
     "data": {
      "image/png": "[encoded data removed]",
      "text/plain": [
       "<Figure size 576x432 with 1 Axes>"
      ]
     },
     "metadata": {
      "needs_background": "light"
     },
     "output_type": "display_data"
    }
   ],
   "source": [
    "# Choose the station with the highest number of temperature observations.\n",
    "# Query the last 12 months of temperature observation data for this station and plot the results as a histogram\n",
    "highest_temp_obs_station_id=session.query(Measurement.station,func.count(Measurement.tobs)).\\\n",
    "        group_by(Measurement.station).\\\n",
    "            order_by(func.count(Measurement.tobs).desc()).first()[0]\n",
    "temperature_obs= session.query(Measurement.tobs).\\\n",
    "    filter(Measurement.date>one_year_ago).\\\n",
    "    filter(Measurement.station==highest_temp_obs_station_id).all()\n",
    "tobs_df=pd.DataFrame(temperature_obs,columns=['tobs'])\n",
    "tobs_df.plot.hist(bins=12,title=f'Histogram of temperature of station {highest_temp_obs_station_id}',figsize=(8,6))\n",
    "plt.xlabel('Temperature')\n",
    "plt.tight_layout()\n",
    "plt.savefig('outputs/histogram_temperature.png',bbox_inches=\"tight\")"
   ]
  },
  {
   "cell_type": "markdown",
   "metadata": {},
   "source": [
    "## Bonus Challenge Assignment"
   ]
  },
  {
   "cell_type": "code",
   "execution_count": 16,
   "metadata": {},
   "outputs": [
    {
     "name": "stdout",
     "output_type": "stream",
     "text": [
      "[(62.0, 69.57142857142857, 74.0)]\n"
     ]
    }
   ],
   "source": [
    "# This function called `calc_temps` will accept start date and end date in the format '%Y-%m-%d' \n",
    "# and return the minimum, average, and maximum temperatures for that range of dates\n",
    "def calc_temps(start_date, end_date):\n",
    "    \"\"\"TMIN, TAVG, and TMAX for a list of dates.\n",
    "    \n",
    "    Args:\n",
    "        start_date (string): A date string in the format %Y-%m-%d\n",
    "        end_date (string): A date string in the format %Y-%m-%d\n",
    "        \n",
    "    Returns:\n",
    "        TMIN, TAVE, and TMAX\n",
    "    \"\"\"\n",
    "    \n",
    "    return session.query(func.min(Measurement.tobs), func.avg(Measurement.tobs), func.max(Measurement.tobs)).\\\n",
    "        filter(Measurement.date >= start_date).filter(Measurement.date <= end_date).all()\n",
    "\n",
    "# function usage example\n",
    "print(calc_temps('2012-02-28', '2012-03-05'))"
   ]
  },
  {
   "cell_type": "code",
   "execution_count": 17,
   "metadata": {},
   "outputs": [
    {
     "name": "stdout",
     "output_type": "stream",
     "text": [
      "[(62.0, 70.38888888888889, 78.0)]\n"
     ]
    }
   ],
   "source": [
    "# Use your previous function `calc_temps` to calculate the tmin, tavg, and tmax \n",
    "# for your trip using the previous year's data for those same dates.\n",
    "(tmin,tavg,tmax) = calc_temps('2016-01-01','2016-01-09')[0]\n",
    "print(calc_temps('2016-01-01','2016-01-09'))"
   ]
  },
  {
   "cell_type": "code",
   "execution_count": 18,
   "metadata": {},
   "outputs": [
    {
     "data": {
      "image/png": "[encoded data removed]",
      "text/plain": [
       "<Figure size 216x432 with 1 Axes>"
      ]
     },
     "metadata": {
      "needs_background": "light"
     },
     "output_type": "display_data"
    }
   ],
   "source": [
    "# Plot the results from your previous query as a bar chart. \n",
    "# Use \"Trip Avg Temp\" as your Title\n",
    "# Use the average temperature for the y value\n",
    "# Use the peak-to-peak (tmax-tmin) value as the y error bar (yerr)\n",
    "temp_df =pd.DataFrame(calc_temps('2016-01-01','2016-01-09'),columns=['tmin','tavg','tmax'])\n",
    "yerr =(temp_df.tmax -temp_df.tmin).to_numpy().T\n",
    "temp_df['tavg'].plot.bar(yerr=yerr,title= 'Trip Avg Temp',figsize=(3,6),color='pink')\n",
    "plt.ylabel('Temp (F)')\n",
    "plt.tick_params(\n",
    "    axis='x',          # changes apply to the x-axis\n",
    "    which='both',      # both major and minor ticks are affected\n",
    "    bottom=False,      # ticks along the bottom edge are off\n",
    "    top=False,         # ticks along the top edge are off\n",
    "    labelbottom=False) # labels along the bottom edge are off\n",
    "plt.tight_layout()\n",
    "plt.savefig('outputs/Trip_Avg_temp.png',bbox_inches=\"tight\")"
   ]
  },
  {
   "cell_type": "code",
   "execution_count": 19,
   "metadata": {},
   "outputs": [
    {
     "data": {
      "text/plain": [
       "[('USC00516128', 2.9400000000000004, 'MANOA LYON ARBO 785.2, HI US', 21.3331, -157.8025, 152.4),\n",
       " ('USC00519281', 0.97, 'WAIHEE 837.5, HI US', 21.45167, -157.84888999999998, 32.9),\n",
       " ('USC00513117', 0.56, 'KANEOHE 838.1, HI US', 21.4234, -157.8015, 14.6),\n",
       " ('USC00514830', 0.22000000000000003, 'KUALOA RANCH HEADQUARTERS 886.9, HI US', 21.5213, -157.8374, 7.0),\n",
       " ('USC00519397', 0.22, 'WAIKIKI 717.2, HI US', 21.2716, -157.8168, 3.0),\n",
       " ('USC00519523', 0.13, 'WAIMANALO EXPERIMENTAL FARM, HI US', 21.33556, -157.71139, 19.5),\n",
       " ('USC00517948', None, 'PEARL CITY, HI US', 21.3934, -157.9751, 11.9)]"
      ]
     },
     "execution_count": 19,
     "metadata": {},
     "output_type": "execute_result"
    }
   ],
   "source": [
    "# Calculate the total amount of rainfall per weather station for your trip dates using the previous year's matching dates.\n",
    "# Sort this in descending order by precipitation amount and list the station, name, latitude, longitude, and elevation\n",
    "session.query(Measurement.station,func.sum(Measurement.prcp),\n",
    "              Station.name,Station.latitude,Station.longitude,Station.elevation).\\\n",
    "        filter(Measurement.date >= '2016-01-01').filter(Measurement.date <= '2016-01-09').\\\n",
    "            filter(Station.station==Measurement.station).\\\n",
    "                group_by(Measurement.station).\\\n",
    "                        order_by(func.sum(Measurement.prcp).desc()).all()"
   ]
  },
  {
   "cell_type": "code",
   "execution_count": 20,
   "metadata": {},
   "outputs": [
    {
     "data": {
      "text/plain": [
       "[(62.0, 69.15384615384616, 77.0)]"
      ]
     },
     "execution_count": 20,
     "metadata": {},
     "output_type": "execute_result"
    }
   ],
   "source": [
    "# Create a query that will calculate the daily normals \n",
    "# (i.e. the averages for tmin, tmax, and tavg for all historic data matching a specific month and day)\n",
    "\n",
    "def daily_normals(date):\n",
    "    \"\"\"Daily Normals.\n",
    "    \n",
    "    Args:\n",
    "        date (str): A date string in the format '%m-%d'\n",
    "        \n",
    "    Returns:\n",
    "        A list of tuples containing the daily normals, tmin, tavg, and tmax\n",
    "    \n",
    "    \"\"\"\n",
    "    \n",
    "    sel = [func.min(Measurement.tobs), func.avg(Measurement.tobs), func.max(Measurement.tobs)]\n",
    "    return session.query(*sel).filter(func.strftime(\"%m-%d\", Measurement.date) == date).all()\n",
    "    \n",
    "daily_normals(\"01-01\")"
   ]
  },
  {
   "cell_type": "code",
   "execution_count": 21,
   "metadata": {},
   "outputs": [
    {
     "data": {
      "text/plain": [
       "[(62.0, 69.15384615384616, 77.0),\n",
       " (60.0, 69.39622641509433, 77.0),\n",
       " (62.0, 68.9090909090909, 77.0),\n",
       " (58.0, 70.0, 76.0),\n",
       " (56.0, 67.96428571428571, 76.0),\n",
       " (61.0, 68.96491228070175, 76.0),\n",
       " (57.0, 68.54385964912281, 76.0),\n",
       " (57.0, 67.16071428571429, 75.0),\n",
       " (58.0, 67.9298245614035, 78.0)]"
      ]
     },
     "execution_count": 21,
     "metadata": {},
     "output_type": "execute_result"
    }
   ],
   "source": [
    "# calculate the daily normals for your trip\n",
    "# push each tuple of calculations into a list called `normals`\n",
    "\n",
    "# Set the start and end date of the trip\n",
    "start_date = datetime.strptime('2016-01-01','%Y-%m-%d')\n",
    "end_date= datetime.strptime('2016-01-09','%Y-%m-%d')\n",
    "# Use the start and end date to create a range of dates\n",
    "dates_range = [start_date + dt.timedelta(days=x) for x in range((end_date-start_date).days+1)]\n",
    "# Stip off the year and save a list of %m-%d strings\n",
    "dates_range_string = [datetime.strftime(dates_range[x],'%m-%d') for x in range((end_date-start_date).days+1)]\n",
    "# Loop through the list of %m-%d strings and calculate the normals for each date\n",
    "list_daily_normal =[]\n",
    "for x in dates_range_string:\n",
    "    list_daily_normal.append(daily_normals(x)[0])\n",
    "list_daily_normal\n"
   ]
  },
  {
   "cell_type": "code",
   "execution_count": 22,
   "metadata": {},
   "outputs": [
    {
     "data": {
      "text/html": [
       "<div>\n",
       "<style scoped>\n",
       "    .dataframe tbody tr th:only-of-type {\n",
       "        vertical-align: middle;\n",
       "    }\n",
       "\n",
       "    .dataframe tbody tr th {\n",
       "        vertical-align: top;\n",
       "    }\n",
       "\n",
       "    .dataframe thead th {\n",
       "        text-align: right;\n",
       "    }\n",
       "</style>\n",
       "<table border=\"1\" class=\"dataframe\">\n",
       "  <thead>\n",
       "    <tr style=\"text-align: right;\">\n",
       "      <th></th>\n",
       "      <th>tmin</th>\n",
       "      <th>tavg</th>\n",
       "      <th>tmax</th>\n",
       "    </tr>\n",
       "  </thead>\n",
       "  <tbody>\n",
       "    <tr>\n",
       "      <th>2016-01-01</th>\n",
       "      <td>62.0</td>\n",
       "      <td>69.153846</td>\n",
       "      <td>77.0</td>\n",
       "    </tr>\n",
       "    <tr>\n",
       "      <th>2016-01-02</th>\n",
       "      <td>60.0</td>\n",
       "      <td>69.396226</td>\n",
       "      <td>77.0</td>\n",
       "    </tr>\n",
       "    <tr>\n",
       "      <th>2016-01-03</th>\n",
       "      <td>62.0</td>\n",
       "      <td>68.909091</td>\n",
       "      <td>77.0</td>\n",
       "    </tr>\n",
       "    <tr>\n",
       "      <th>2016-01-04</th>\n",
       "      <td>58.0</td>\n",
       "      <td>70.000000</td>\n",
       "      <td>76.0</td>\n",
       "    </tr>\n",
       "    <tr>\n",
       "      <th>2016-01-05</th>\n",
       "      <td>56.0</td>\n",
       "      <td>67.964286</td>\n",
       "      <td>76.0</td>\n",
       "    </tr>\n",
       "    <tr>\n",
       "      <th>2016-01-06</th>\n",
       "      <td>61.0</td>\n",
       "      <td>68.964912</td>\n",
       "      <td>76.0</td>\n",
       "    </tr>\n",
       "    <tr>\n",
       "      <th>2016-01-07</th>\n",
       "      <td>57.0</td>\n",
       "      <td>68.543860</td>\n",
       "      <td>76.0</td>\n",
       "    </tr>\n",
       "    <tr>\n",
       "      <th>2016-01-08</th>\n",
       "      <td>57.0</td>\n",
       "      <td>67.160714</td>\n",
       "      <td>75.0</td>\n",
       "    </tr>\n",
       "    <tr>\n",
       "      <th>2016-01-09</th>\n",
       "      <td>58.0</td>\n",
       "      <td>67.929825</td>\n",
       "      <td>78.0</td>\n",
       "    </tr>\n",
       "  </tbody>\n",
       "</table>\n",
       "</div>"
      ],
      "text/plain": [
       "            tmin       tavg  tmax\n",
       "2016-01-01  62.0  69.153846  77.0\n",
       "2016-01-02  60.0  69.396226  77.0\n",
       "2016-01-03  62.0  68.909091  77.0\n",
       "2016-01-04  58.0  70.000000  76.0\n",
       "2016-01-05  56.0  67.964286  76.0\n",
       "2016-01-06  61.0  68.964912  76.0\n",
       "2016-01-07  57.0  68.543860  76.0\n",
       "2016-01-08  57.0  67.160714  75.0\n",
       "2016-01-09  58.0  67.929825  78.0"
      ]
     },
     "execution_count": 22,
     "metadata": {},
     "output_type": "execute_result"
    }
   ],
   "source": [
    "# Load the previous query results into a Pandas DataFrame and add the `trip_dates` range as the `date` index\n",
    "dates_range= [datetime.strftime(dates_range[x],'%Y-%m-%d') for x in range((end_date-start_date).days+1)]\n",
    "daily_normals_df = pd.DataFrame(list_daily_normal,columns=['tmin','tavg','tmax'],index=dates_range)\n",
    "daily_normals_df\n"
   ]
  },
  {
   "cell_type": "code",
   "execution_count": 23,
   "metadata": {},
   "outputs": [
    {
     "data": {
      "image/png": "[encoded data removed]",
      "text/plain": [
       "<Figure size 576x432 with 1 Axes>"
      ]
     },
     "metadata": {
      "needs_background": "light"
     },
     "output_type": "display_data"
    }
   ],
   "source": [
    "# Plot the daily normals as an area plot with `stacked=False`\n",
    "daily_normals_df.plot.area(stacked=False, figsize = (8,6),title='Daily Normals Temperature')\n",
    "plt.xticks(rotation = 90)\n",
    "plt.xlabel('Date')\n",
    "plt.ylabel('Temperature(F)')\n",
    "plt.tight_layout()\n",
    "plt.savefig('outputs/daily_normals.png',bbox_inches=\"tight\")"
   ]
  }
 ],
 "metadata": {
  "kernel_info": {
   "name": "python3"
  },
  "kernelspec": {
   "display_name": "Python 3.7.13 ('bootcamp')",
   "language": "python",
   "name": "python3"
  },
  "language_info": {
   "codemirror_mode": {
    "name": "ipython",
    "version": 3
   },
   "file_extension": ".py",
   "mimetype": "text/x-python",
   "name": "python",
   "nbconvert_exporter": "python",
   "pygments_lexer": "ipython3",
   "version": "3.7.13"
  },
  "nteract": {
   "version": "0.12.3"
  },
  "varInspector": {
   "cols": {
    "lenName": 16,
    "lenType": 16,
    "lenVar": 40
   },
   "kernels_config": {
    "python": {
     "delete_cmd_postfix": "",
     "delete_cmd_prefix": "del ",
     "library": "var_list.py",
     "varRefreshCmd": "print(var_dic_list())"
    },
    "r": {
     "delete_cmd_postfix": ") ",
     "delete_cmd_prefix": "rm(",
     "library": "var_list.r",
     "varRefreshCmd": "cat(var_dic_list()) "
    }
   },
   "types_to_exclude": [
    "module",
    "function",
    "builtin_function_or_method",
    "instance",
    "_Feature"
   ],
   "window_display": false
  },
  "vscode": {
   "interpreter": {
    "hash": "a7c284f6c3454d9296f827a682b0575908dd97079acfefde70d6f996863eb3eb"
   }
  }
 },
 "nbformat": 4,
 "nbformat_minor": 2
}
